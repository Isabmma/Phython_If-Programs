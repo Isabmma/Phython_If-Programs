{
 "cells": [
  {
   "cell_type": "markdown",
   "metadata": {},
   "source": [
    "## 1. Cálculo de Bônus\n",
    "\n",
    "- Crie um programa que calcule e dê um print no bônus que os funcionários devem receber segundo a regra:\n",
    "\n",
    "A meta é 1000 vendas.<br> \n",
    "Se o valor de vendas for maior ou igual a meta, o valor do bônus do funcionário é 10% do valor de vendas.<br>\n",
    "Caso contrário o valor de bônus do funcionário é 0.<br>\n",
    "Print o bônus dos 3 funcionários"
   ]
  },
  {
   "cell_type": "code",
   "execution_count": 1,
   "metadata": {},
   "outputs": [
    {
     "name": "stdout",
     "output_type": "stream",
     "text": [
      "O funcionario ganhou 100.0 de bonus\n",
      "O funcionario ganhou 0 de bonus\n",
      "O funcionario ganhou 270.0 de bonus\n"
     ]
    }
   ],
   "source": [
    "vendas_funcionario1 = 1000\n",
    "vendas_funcionario2 = 770\n",
    "vendas_funcionario3 = 2700\n",
    "\n",
    "#Meta\n",
    "meta = 1000\n",
    "\n",
    "#bonus\n",
    "bonus_ok = 0.1\n",
    "bonus_nok = 0\n",
    "bonus = 0 \n",
    "\n",
    "def calculo_bonus(vendas):\n",
    "  \n",
    "  if vendas >= meta:\n",
    "    bonus = vendas * bonus_ok\n",
    "  else:\n",
    "    bonus = vendas * bonus_nok\n",
    "\n",
    "  return print(f\"O funcionario ganhou {bonus} de bonus\")\n",
    "\n",
    "calculo_bonus(vendas_funcionario1)\n",
    "calculo_bonus(vendas_funcionario2)\n",
    "calculo_bonus(vendas_funcionario3)\n"
   ]
  },
  {
   "cell_type": "markdown",
   "metadata": {},
   "source": [
    "## 2. Cálculo de bônus com uma nova regra\n",
    "\n",
    "- Agora, crie um novo código que calcule e dê um print no bônus dos funcionários novamente. Porém há uma nova regra nesse 2º caso:\n",
    "\n",
    "A meta é 1000 vendas<br>\n",
    "Agora, os funcionários que venderem muito acima da meta ganham mais bônus do que os outros. Então o bônus é definido da seguinte forma:<br>\n",
    "\n",
    "- Se vendas funcionário for maior ou igual a 2000, então o bônus é de 15% sobre o valor de vendas\n",
    "- Se vendas funcionário for menor do que 2000 e maior ou igual a 1000, então o bônus é de 10% sobre o valor de vendas\n",
    "- Se vendas funcionário for menos do que 1000 então o bônus do funcionário é de 0.\n",
    "\n",
    "Use as mesmas variáveis de vendas_funcionários"
   ]
  },
  {
   "cell_type": "code",
   "execution_count": 2,
   "metadata": {},
   "outputs": [
    {
     "name": "stdout",
     "output_type": "stream",
     "text": [
      "O funcionario ganhou 100.0 de bonus\n",
      "O funcionario ganhou 0 de bonus\n",
      "O funcionario ganhou 405.0 de bonus\n"
     ]
    }
   ],
   "source": [
    "vendas_funcionario1 = 1000\n",
    "vendas_funcionario2 = 770\n",
    "vendas_funcionario3 = 2700\n",
    "\n",
    "#Metas\n",
    "meta1 = 2000\n",
    "meta2 = 1000\n",
    "\n",
    "#Bonus\n",
    "bonus_15 = 0.15\n",
    "bonus_10 = 0.1\n",
    "bonus_0 = 0\n",
    "bonus = 0 \n",
    "\n",
    "def calculo_bonus(vendas):\n",
    "  \n",
    "  if vendas >= meta1:\n",
    "    bonus = vendas * bonus_15\n",
    "  elif vendas < meta1 and vendas >= meta2:\n",
    "    bonus = vendas * bonus_10\n",
    "  else:\n",
    "    bonus = vendas * bonus_0\n",
    "\n",
    "  return print(f\"O funcionario ganhou {bonus} de bonus\")\n",
    "\n",
    "calculo_bonus(vendas_funcionario1)\n",
    "calculo_bonus(vendas_funcionario2)\n",
    "calculo_bonus(vendas_funcionario3)\n"
   ]
  }
 ],
 "metadata": {
  "kernelspec": {
   "display_name": "Python 3.10.4 64-bit",
   "language": "python",
   "name": "python3"
  },
  "language_info": {
   "codemirror_mode": {
    "name": "ipython",
    "version": 3
   },
   "file_extension": ".py",
   "mimetype": "text/x-python",
   "name": "python",
   "nbconvert_exporter": "python",
   "pygments_lexer": "ipython3",
   "version": "3.10.4"
  },
  "vscode": {
   "interpreter": {
    "hash": "396a487d0f9a1aeea6eec7e2661c1b70bd880358e710a503b71d50d0e4959784"
   }
  }
 },
 "nbformat": 4,
 "nbformat_minor": 4
}
